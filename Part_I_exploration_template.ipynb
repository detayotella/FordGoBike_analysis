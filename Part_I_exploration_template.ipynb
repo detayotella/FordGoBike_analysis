{
 "cells": [
  {
   "cell_type": "code",
   "execution_count": 1,
   "id": "cfcf660c",
   "metadata": {},
   "outputs": [],
   "source": [
    "import numpy as np\n",
    "import pandas as pd\n",
    "import matplotlib.pyplot as plt\n",
    "import seaborn as sns"
   ]
  },
  {
   "cell_type": "markdown",
   "id": "57185711",
   "metadata": {},
   "source": [
    "# Part I - Ford GoBike Data Exploration\n",
    "## by Tella Adetayo\n",
    "\n",
    "## Introduction\n",
    "Ford GoBike is the Bay Area's bike sharing system. Bay Area Bike Share was introduced in 2013 as a pilot program for the region, with 700 bikes and 70 stations across San Fransico and San Jose. \n",
    "\n",
    "The programs consists of bikes which are specially designed that can be locked in a network of docking station, it can be unlocked in one station and locked in another station. The bikes are available 24 hours per day, 7 days per week and 356 days a year.\n",
    "\n",
    "\n",
    "## Preliminary Wrangling\n"
   ]
  },
  {
   "cell_type": "code",
   "execution_count": 2,
   "id": "ebc2a4f6",
   "metadata": {},
   "outputs": [],
   "source": [
    "# import all the packages\n",
    "import numpy as np\n",
    "import pandas as pd\n",
    "import matplotlib.pyplot as plt\n",
    "import seaborn as sns"
   ]
  },
  {
   "cell_type": "markdown",
   "id": "9f532078",
   "metadata": {},
   "source": [
    "## Data Gathering"
   ]
  },
  {
   "cell_type": "code",
   "execution_count": 3,
   "id": "01d61294",
   "metadata": {},
   "outputs": [],
   "source": [
    "# load the dataset in to pandas dataframe\n",
    "GoBike_df = pd.read_csv(\"Downloads/201902-fordgobike-tripdata.csv\")"
   ]
  },
  {
   "cell_type": "markdown",
   "id": "7f8d068f",
   "metadata": {},
   "source": [
    "## Accessing"
   ]
  },
  {
   "cell_type": "code",
   "execution_count": 4,
   "id": "68243db6",
   "metadata": {},
   "outputs": [
    {
     "name": "stdout",
     "output_type": "stream",
     "text": [
      "(183412, 16)\n"
     ]
    },
    {
     "data": {
      "text/html": [
       "<div>\n",
       "<style scoped>\n",
       "    .dataframe tbody tr th:only-of-type {\n",
       "        vertical-align: middle;\n",
       "    }\n",
       "\n",
       "    .dataframe tbody tr th {\n",
       "        vertical-align: top;\n",
       "    }\n",
       "\n",
       "    .dataframe thead th {\n",
       "        text-align: right;\n",
       "    }\n",
       "</style>\n",
       "<table border=\"1\" class=\"dataframe\">\n",
       "  <thead>\n",
       "    <tr style=\"text-align: right;\">\n",
       "      <th></th>\n",
       "      <th>duration_sec</th>\n",
       "      <th>start_time</th>\n",
       "      <th>end_time</th>\n",
       "      <th>start_station_id</th>\n",
       "      <th>start_station_name</th>\n",
       "      <th>start_station_latitude</th>\n",
       "      <th>start_station_longitude</th>\n",
       "      <th>end_station_id</th>\n",
       "      <th>end_station_name</th>\n",
       "      <th>end_station_latitude</th>\n",
       "      <th>end_station_longitude</th>\n",
       "      <th>bike_id</th>\n",
       "      <th>user_type</th>\n",
       "      <th>member_birth_year</th>\n",
       "      <th>member_gender</th>\n",
       "      <th>bike_share_for_all_trip</th>\n",
       "    </tr>\n",
       "  </thead>\n",
       "  <tbody>\n",
       "    <tr>\n",
       "      <th>0</th>\n",
       "      <td>52185</td>\n",
       "      <td>2019-02-28 17:32:10.1450</td>\n",
       "      <td>2019-03-01 08:01:55.9750</td>\n",
       "      <td>21.0</td>\n",
       "      <td>Montgomery St BART Station (Market St at 2nd St)</td>\n",
       "      <td>37.789625</td>\n",
       "      <td>-122.400811</td>\n",
       "      <td>13.0</td>\n",
       "      <td>Commercial St at Montgomery St</td>\n",
       "      <td>37.794231</td>\n",
       "      <td>-122.402923</td>\n",
       "      <td>4902</td>\n",
       "      <td>Customer</td>\n",
       "      <td>1984.0</td>\n",
       "      <td>Male</td>\n",
       "      <td>No</td>\n",
       "    </tr>\n",
       "    <tr>\n",
       "      <th>1</th>\n",
       "      <td>42521</td>\n",
       "      <td>2019-02-28 18:53:21.7890</td>\n",
       "      <td>2019-03-01 06:42:03.0560</td>\n",
       "      <td>23.0</td>\n",
       "      <td>The Embarcadero at Steuart St</td>\n",
       "      <td>37.791464</td>\n",
       "      <td>-122.391034</td>\n",
       "      <td>81.0</td>\n",
       "      <td>Berry St at 4th St</td>\n",
       "      <td>37.775880</td>\n",
       "      <td>-122.393170</td>\n",
       "      <td>2535</td>\n",
       "      <td>Customer</td>\n",
       "      <td>NaN</td>\n",
       "      <td>NaN</td>\n",
       "      <td>No</td>\n",
       "    </tr>\n",
       "    <tr>\n",
       "      <th>2</th>\n",
       "      <td>61854</td>\n",
       "      <td>2019-02-28 12:13:13.2180</td>\n",
       "      <td>2019-03-01 05:24:08.1460</td>\n",
       "      <td>86.0</td>\n",
       "      <td>Market St at Dolores St</td>\n",
       "      <td>37.769305</td>\n",
       "      <td>-122.426826</td>\n",
       "      <td>3.0</td>\n",
       "      <td>Powell St BART Station (Market St at 4th St)</td>\n",
       "      <td>37.786375</td>\n",
       "      <td>-122.404904</td>\n",
       "      <td>5905</td>\n",
       "      <td>Customer</td>\n",
       "      <td>1972.0</td>\n",
       "      <td>Male</td>\n",
       "      <td>No</td>\n",
       "    </tr>\n",
       "    <tr>\n",
       "      <th>3</th>\n",
       "      <td>36490</td>\n",
       "      <td>2019-02-28 17:54:26.0100</td>\n",
       "      <td>2019-03-01 04:02:36.8420</td>\n",
       "      <td>375.0</td>\n",
       "      <td>Grove St at Masonic Ave</td>\n",
       "      <td>37.774836</td>\n",
       "      <td>-122.446546</td>\n",
       "      <td>70.0</td>\n",
       "      <td>Central Ave at Fell St</td>\n",
       "      <td>37.773311</td>\n",
       "      <td>-122.444293</td>\n",
       "      <td>6638</td>\n",
       "      <td>Subscriber</td>\n",
       "      <td>1989.0</td>\n",
       "      <td>Other</td>\n",
       "      <td>No</td>\n",
       "    </tr>\n",
       "    <tr>\n",
       "      <th>4</th>\n",
       "      <td>1585</td>\n",
       "      <td>2019-02-28 23:54:18.5490</td>\n",
       "      <td>2019-03-01 00:20:44.0740</td>\n",
       "      <td>7.0</td>\n",
       "      <td>Frank H Ogawa Plaza</td>\n",
       "      <td>37.804562</td>\n",
       "      <td>-122.271738</td>\n",
       "      <td>222.0</td>\n",
       "      <td>10th Ave at E 15th St</td>\n",
       "      <td>37.792714</td>\n",
       "      <td>-122.248780</td>\n",
       "      <td>4898</td>\n",
       "      <td>Subscriber</td>\n",
       "      <td>1974.0</td>\n",
       "      <td>Male</td>\n",
       "      <td>Yes</td>\n",
       "    </tr>\n",
       "  </tbody>\n",
       "</table>\n",
       "</div>"
      ],
      "text/plain": [
       "   duration_sec                start_time                  end_time  \\\n",
       "0         52185  2019-02-28 17:32:10.1450  2019-03-01 08:01:55.9750   \n",
       "1         42521  2019-02-28 18:53:21.7890  2019-03-01 06:42:03.0560   \n",
       "2         61854  2019-02-28 12:13:13.2180  2019-03-01 05:24:08.1460   \n",
       "3         36490  2019-02-28 17:54:26.0100  2019-03-01 04:02:36.8420   \n",
       "4          1585  2019-02-28 23:54:18.5490  2019-03-01 00:20:44.0740   \n",
       "\n",
       "   start_station_id                                start_station_name  \\\n",
       "0              21.0  Montgomery St BART Station (Market St at 2nd St)   \n",
       "1              23.0                     The Embarcadero at Steuart St   \n",
       "2              86.0                           Market St at Dolores St   \n",
       "3             375.0                           Grove St at Masonic Ave   \n",
       "4               7.0                               Frank H Ogawa Plaza   \n",
       "\n",
       "   start_station_latitude  start_station_longitude  end_station_id  \\\n",
       "0               37.789625              -122.400811            13.0   \n",
       "1               37.791464              -122.391034            81.0   \n",
       "2               37.769305              -122.426826             3.0   \n",
       "3               37.774836              -122.446546            70.0   \n",
       "4               37.804562              -122.271738           222.0   \n",
       "\n",
       "                               end_station_name  end_station_latitude  \\\n",
       "0                Commercial St at Montgomery St             37.794231   \n",
       "1                            Berry St at 4th St             37.775880   \n",
       "2  Powell St BART Station (Market St at 4th St)             37.786375   \n",
       "3                        Central Ave at Fell St             37.773311   \n",
       "4                         10th Ave at E 15th St             37.792714   \n",
       "\n",
       "   end_station_longitude  bike_id   user_type  member_birth_year  \\\n",
       "0            -122.402923     4902    Customer             1984.0   \n",
       "1            -122.393170     2535    Customer                NaN   \n",
       "2            -122.404904     5905    Customer             1972.0   \n",
       "3            -122.444293     6638  Subscriber             1989.0   \n",
       "4            -122.248780     4898  Subscriber             1974.0   \n",
       "\n",
       "  member_gender bike_share_for_all_trip  \n",
       "0          Male                      No  \n",
       "1           NaN                      No  \n",
       "2          Male                      No  \n",
       "3         Other                      No  \n",
       "4          Male                     Yes  "
      ]
     },
     "execution_count": 4,
     "metadata": {},
     "output_type": "execute_result"
    }
   ],
   "source": [
    "# print the shape of the dataframe and the first five rows of the dataframe\n",
    "print(GoBike_df.shape)\n",
    "GoBike_df.head()"
   ]
  },
  {
   "cell_type": "code",
   "execution_count": 5,
   "id": "97983c6a",
   "metadata": {},
   "outputs": [
    {
     "name": "stdout",
     "output_type": "stream",
     "text": [
      "<class 'pandas.core.frame.DataFrame'>\n",
      "RangeIndex: 183412 entries, 0 to 183411\n",
      "Data columns (total 16 columns):\n",
      " #   Column                   Non-Null Count   Dtype  \n",
      "---  ------                   --------------   -----  \n",
      " 0   duration_sec             183412 non-null  int64  \n",
      " 1   start_time               183412 non-null  object \n",
      " 2   end_time                 183412 non-null  object \n",
      " 3   start_station_id         183215 non-null  float64\n",
      " 4   start_station_name       183215 non-null  object \n",
      " 5   start_station_latitude   183412 non-null  float64\n",
      " 6   start_station_longitude  183412 non-null  float64\n",
      " 7   end_station_id           183215 non-null  float64\n",
      " 8   end_station_name         183215 non-null  object \n",
      " 9   end_station_latitude     183412 non-null  float64\n",
      " 10  end_station_longitude    183412 non-null  float64\n",
      " 11  bike_id                  183412 non-null  int64  \n",
      " 12  user_type                183412 non-null  object \n",
      " 13  member_birth_year        175147 non-null  float64\n",
      " 14  member_gender            175147 non-null  object \n",
      " 15  bike_share_for_all_trip  183412 non-null  object \n",
      "dtypes: float64(7), int64(2), object(7)\n",
      "memory usage: 22.4+ MB\n"
     ]
    }
   ],
   "source": [
    "# Check the general info of the dataset\n",
    "GoBike_df.info()"
   ]
  },
  {
   "cell_type": "code",
   "execution_count": 6,
   "id": "c4d26116",
   "metadata": {},
   "outputs": [],
   "source": [
    "# Assigning the sum of the null values \n",
    "null_values = GoBike_df.isnull().sum()"
   ]
  },
  {
   "cell_type": "code",
   "execution_count": 7,
   "id": "c02167f2",
   "metadata": {},
   "outputs": [
    {
     "data": {
      "text/plain": [
       "start_station_id       197\n",
       "start_station_name     197\n",
       "end_station_id         197\n",
       "end_station_name       197\n",
       "member_birth_year     8265\n",
       "member_gender         8265\n",
       "dtype: int64"
      ]
     },
     "execution_count": 7,
     "metadata": {},
     "output_type": "execute_result"
    }
   ],
   "source": [
    "# Checking the null values greater than 0\n",
    "null_values[null_values > 0]"
   ]
  },
  {
   "cell_type": "code",
   "execution_count": 8,
   "id": "78cee5d4",
   "metadata": {},
   "outputs": [
    {
     "data": {
      "text/html": [
       "<div>\n",
       "<style scoped>\n",
       "    .dataframe tbody tr th:only-of-type {\n",
       "        vertical-align: middle;\n",
       "    }\n",
       "\n",
       "    .dataframe tbody tr th {\n",
       "        vertical-align: top;\n",
       "    }\n",
       "\n",
       "    .dataframe thead th {\n",
       "        text-align: right;\n",
       "    }\n",
       "</style>\n",
       "<table border=\"1\" class=\"dataframe\">\n",
       "  <thead>\n",
       "    <tr style=\"text-align: right;\">\n",
       "      <th></th>\n",
       "      <th>count</th>\n",
       "      <th>mean</th>\n",
       "      <th>std</th>\n",
       "      <th>min</th>\n",
       "      <th>25%</th>\n",
       "      <th>50%</th>\n",
       "      <th>75%</th>\n",
       "      <th>max</th>\n",
       "    </tr>\n",
       "  </thead>\n",
       "  <tbody>\n",
       "    <tr>\n",
       "      <th>duration_sec</th>\n",
       "      <td>183412.0</td>\n",
       "      <td>726.078435</td>\n",
       "      <td>1794.389780</td>\n",
       "      <td>61.000000</td>\n",
       "      <td>325.000000</td>\n",
       "      <td>514.000000</td>\n",
       "      <td>796.000000</td>\n",
       "      <td>85444.000000</td>\n",
       "    </tr>\n",
       "    <tr>\n",
       "      <th>start_station_id</th>\n",
       "      <td>183215.0</td>\n",
       "      <td>138.590427</td>\n",
       "      <td>111.778864</td>\n",
       "      <td>3.000000</td>\n",
       "      <td>47.000000</td>\n",
       "      <td>104.000000</td>\n",
       "      <td>239.000000</td>\n",
       "      <td>398.000000</td>\n",
       "    </tr>\n",
       "    <tr>\n",
       "      <th>start_station_latitude</th>\n",
       "      <td>183412.0</td>\n",
       "      <td>37.771223</td>\n",
       "      <td>0.099581</td>\n",
       "      <td>37.317298</td>\n",
       "      <td>37.770083</td>\n",
       "      <td>37.780760</td>\n",
       "      <td>37.797280</td>\n",
       "      <td>37.880222</td>\n",
       "    </tr>\n",
       "    <tr>\n",
       "      <th>start_station_longitude</th>\n",
       "      <td>183412.0</td>\n",
       "      <td>-122.352664</td>\n",
       "      <td>0.117097</td>\n",
       "      <td>-122.453704</td>\n",
       "      <td>-122.412408</td>\n",
       "      <td>-122.398285</td>\n",
       "      <td>-122.286533</td>\n",
       "      <td>-121.874119</td>\n",
       "    </tr>\n",
       "    <tr>\n",
       "      <th>end_station_id</th>\n",
       "      <td>183215.0</td>\n",
       "      <td>136.249123</td>\n",
       "      <td>111.515131</td>\n",
       "      <td>3.000000</td>\n",
       "      <td>44.000000</td>\n",
       "      <td>100.000000</td>\n",
       "      <td>235.000000</td>\n",
       "      <td>398.000000</td>\n",
       "    </tr>\n",
       "    <tr>\n",
       "      <th>end_station_latitude</th>\n",
       "      <td>183412.0</td>\n",
       "      <td>37.771427</td>\n",
       "      <td>0.099490</td>\n",
       "      <td>37.317298</td>\n",
       "      <td>37.770407</td>\n",
       "      <td>37.781010</td>\n",
       "      <td>37.797320</td>\n",
       "      <td>37.880222</td>\n",
       "    </tr>\n",
       "    <tr>\n",
       "      <th>end_station_longitude</th>\n",
       "      <td>183412.0</td>\n",
       "      <td>-122.352250</td>\n",
       "      <td>0.116673</td>\n",
       "      <td>-122.453704</td>\n",
       "      <td>-122.411726</td>\n",
       "      <td>-122.398279</td>\n",
       "      <td>-122.288045</td>\n",
       "      <td>-121.874119</td>\n",
       "    </tr>\n",
       "    <tr>\n",
       "      <th>bike_id</th>\n",
       "      <td>183412.0</td>\n",
       "      <td>4472.906375</td>\n",
       "      <td>1664.383394</td>\n",
       "      <td>11.000000</td>\n",
       "      <td>3777.000000</td>\n",
       "      <td>4958.000000</td>\n",
       "      <td>5502.000000</td>\n",
       "      <td>6645.000000</td>\n",
       "    </tr>\n",
       "    <tr>\n",
       "      <th>member_birth_year</th>\n",
       "      <td>175147.0</td>\n",
       "      <td>1984.806437</td>\n",
       "      <td>10.116689</td>\n",
       "      <td>1878.000000</td>\n",
       "      <td>1980.000000</td>\n",
       "      <td>1987.000000</td>\n",
       "      <td>1992.000000</td>\n",
       "      <td>2001.000000</td>\n",
       "    </tr>\n",
       "  </tbody>\n",
       "</table>\n",
       "</div>"
      ],
      "text/plain": [
       "                            count         mean          std          min  \\\n",
       "duration_sec             183412.0   726.078435  1794.389780    61.000000   \n",
       "start_station_id         183215.0   138.590427   111.778864     3.000000   \n",
       "start_station_latitude   183412.0    37.771223     0.099581    37.317298   \n",
       "start_station_longitude  183412.0  -122.352664     0.117097  -122.453704   \n",
       "end_station_id           183215.0   136.249123   111.515131     3.000000   \n",
       "end_station_latitude     183412.0    37.771427     0.099490    37.317298   \n",
       "end_station_longitude    183412.0  -122.352250     0.116673  -122.453704   \n",
       "bike_id                  183412.0  4472.906375  1664.383394    11.000000   \n",
       "member_birth_year        175147.0  1984.806437    10.116689  1878.000000   \n",
       "\n",
       "                                 25%          50%          75%           max  \n",
       "duration_sec              325.000000   514.000000   796.000000  85444.000000  \n",
       "start_station_id           47.000000   104.000000   239.000000    398.000000  \n",
       "start_station_latitude     37.770083    37.780760    37.797280     37.880222  \n",
       "start_station_longitude  -122.412408  -122.398285  -122.286533   -121.874119  \n",
       "end_station_id             44.000000   100.000000   235.000000    398.000000  \n",
       "end_station_latitude       37.770407    37.781010    37.797320     37.880222  \n",
       "end_station_longitude    -122.411726  -122.398279  -122.288045   -121.874119  \n",
       "bike_id                  3777.000000  4958.000000  5502.000000   6645.000000  \n",
       "member_birth_year        1980.000000  1987.000000  1992.000000   2001.000000  "
      ]
     },
     "execution_count": 8,
     "metadata": {},
     "output_type": "execute_result"
    }
   ],
   "source": [
    "# Descriptive statistics of the dataframe\n",
    "GoBike_df.describe().T"
   ]
  },
  {
   "cell_type": "code",
   "execution_count": 9,
   "id": "b731a2e5",
   "metadata": {},
   "outputs": [
    {
     "data": {
      "text/plain": [
       "0"
      ]
     },
     "execution_count": 9,
     "metadata": {},
     "output_type": "execute_result"
    }
   ],
   "source": [
    "# Checking the duplicates values\n",
    "sum(GoBike_df.duplicated())"
   ]
  },
  {
   "cell_type": "code",
   "execution_count": 10,
   "id": "34308ba6",
   "metadata": {},
   "outputs": [
    {
     "data": {
      "text/plain": [
       "Subscriber    163544\n",
       "Customer       19868\n",
       "Name: user_type, dtype: int64"
      ]
     },
     "execution_count": 10,
     "metadata": {},
     "output_type": "execute_result"
    }
   ],
   "source": [
    "# Checking the values counts of the user_trip column\n",
    "GoBike_df[\"user_type\"].value_counts()"
   ]
  },
  {
   "cell_type": "code",
   "execution_count": 11,
   "id": "c9c4a4ee",
   "metadata": {},
   "outputs": [
    {
     "data": {
      "text/plain": [
       "No     166053\n",
       "Yes     17359\n",
       "Name: bike_share_for_all_trip, dtype: int64"
      ]
     },
     "execution_count": 11,
     "metadata": {},
     "output_type": "execute_result"
    }
   ],
   "source": [
    "# Checking the values counts of the bike_share_for_all_trip column\n",
    "GoBike_df[\"bike_share_for_all_trip\"].value_counts()"
   ]
  },
  {
   "cell_type": "code",
   "execution_count": 12,
   "id": "23172fd6",
   "metadata": {},
   "outputs": [
    {
     "data": {
      "text/plain": [
       "Market St at 10th St                                         3904\n",
       "San Francisco Caltrain Station 2  (Townsend St at 4th St)    3544\n",
       "Berry St at 4th St                                           3052\n",
       "Montgomery St BART Station (Market St at 2nd St)             2895\n",
       "Powell St BART Station (Market St at 4th St)                 2760\n",
       "                                                             ... \n",
       "Willow St at Vine St                                            9\n",
       "Parker Ave at McAllister St                                     7\n",
       "Palm St at Willow St                                            4\n",
       "21st Ave at International Blvd                                  4\n",
       "16th St Depot                                                   2\n",
       "Name: start_station_name, Length: 329, dtype: int64"
      ]
     },
     "execution_count": 12,
     "metadata": {},
     "output_type": "execute_result"
    }
   ],
   "source": [
    "# Checking the value counts of the start_station_name column\n",
    "GoBike_df[\"start_station_name\"].value_counts()"
   ]
  },
  {
   "cell_type": "code",
   "execution_count": 13,
   "id": "e17ec9a2",
   "metadata": {},
   "outputs": [
    {
     "data": {
      "text/plain": [
       "329"
      ]
     },
     "execution_count": 13,
     "metadata": {},
     "output_type": "execute_result"
    }
   ],
   "source": [
    "# Number of unique values in the start_station_name column\n",
    "GoBike_df[\"start_station_name\"].nunique()"
   ]
  },
  {
   "cell_type": "code",
   "execution_count": 14,
   "id": "901ab00f",
   "metadata": {},
   "outputs": [
    {
     "data": {
      "text/plain": [
       "San Francisco Caltrain Station 2  (Townsend St at 4th St)    4857\n",
       "Market St at 10th St                                         3973\n",
       "Montgomery St BART Station (Market St at 2nd St)             3647\n",
       "San Francisco Ferry Building (Harry Bridges Plaza)           3368\n",
       "Powell St BART Station (Market St at 4th St)                 2997\n",
       "                                                             ... \n",
       "Parker Ave at McAllister St                                     9\n",
       "Palm St at Willow St                                            7\n",
       "16th St Depot                                                   6\n",
       "21st Ave at International Blvd                                  6\n",
       "Willow St at Vine St                                            5\n",
       "Name: end_station_name, Length: 329, dtype: int64"
      ]
     },
     "execution_count": 14,
     "metadata": {},
     "output_type": "execute_result"
    }
   ],
   "source": [
    "# Checking the value counts of the end_station_name column\n",
    "GoBike_df[\"end_station_name\"].value_counts()"
   ]
  },
  {
   "cell_type": "code",
   "execution_count": 15,
   "id": "650d118f",
   "metadata": {},
   "outputs": [
    {
     "data": {
      "text/plain": [
       "329"
      ]
     },
     "execution_count": 15,
     "metadata": {},
     "output_type": "execute_result"
    }
   ],
   "source": [
    "# Number of unique values in the end_station_name column\n",
    "GoBike_df[\"end_station_name\"].nunique()"
   ]
  },
  {
   "cell_type": "markdown",
   "id": "47d54377",
   "metadata": {},
   "source": [
    "#### Quality\n",
    "\n",
    "###### `GoBike_df` table\n",
    "- Erroneous datatype in start_time, end_time, memeber_gender, bake_share_for_all_trip, user_type\n",
    "- Null values in the start_station_id, start_station_name, end_station_id, end_station_name, member_birth_year    member_gender\n",
    "- The week and day can be extracted from the start_time column"
   ]
  },
  {
   "cell_type": "markdown",
   "id": "bb526421",
   "metadata": {},
   "source": [
    "## Clean"
   ]
  },
  {
   "cell_type": "code",
   "execution_count": 16,
   "id": "baf5fcbb",
   "metadata": {},
   "outputs": [],
   "source": [
    "GoBike_df_copy = GoBike_df.copy()"
   ]
  },
  {
   "cell_type": "markdown",
   "id": "9397eac6",
   "metadata": {},
   "source": [
    "### Quality"
   ]
  },
  {
   "cell_type": "markdown",
   "id": "83887e87",
   "metadata": {},
   "source": [
    "##### `GoBike_df` table: Null values in the start_station_id, start_station_name, end_station_id, end_station_name, member_birth_year member_gender"
   ]
  },
  {
   "cell_type": "markdown",
   "id": "afbc0074",
   "metadata": {},
   "source": [
    "#### Define"
   ]
  },
  {
   "cell_type": "markdown",
   "id": "d9b2095c",
   "metadata": {},
   "source": [
    "Drop the null values in the start_station_id, start_station_name, end_station_id, end_station_name, member_birth_year, member_gender"
   ]
  },
  {
   "cell_type": "markdown",
   "id": "2b7a2d06",
   "metadata": {},
   "source": [
    "##### Code"
   ]
  },
  {
   "cell_type": "code",
   "execution_count": 17,
   "id": "d56b8573",
   "metadata": {},
   "outputs": [],
   "source": [
    "# Drop the null values\n",
    "GoBike_df_copy.dropna(inplace = True)"
   ]
  },
  {
   "cell_type": "markdown",
   "id": "f204a5fd",
   "metadata": {},
   "source": [
    "##### Test"
   ]
  },
  {
   "cell_type": "code",
   "execution_count": 18,
   "id": "2d96ff39",
   "metadata": {},
   "outputs": [
    {
     "data": {
      "text/plain": [
       "duration_sec               0\n",
       "start_time                 0\n",
       "end_time                   0\n",
       "start_station_id           0\n",
       "start_station_name         0\n",
       "start_station_latitude     0\n",
       "start_station_longitude    0\n",
       "end_station_id             0\n",
       "end_station_name           0\n",
       "end_station_latitude       0\n",
       "end_station_longitude      0\n",
       "bike_id                    0\n",
       "user_type                  0\n",
       "member_birth_year          0\n",
       "member_gender              0\n",
       "bike_share_for_all_trip    0\n",
       "dtype: int64"
      ]
     },
     "execution_count": 18,
     "metadata": {},
     "output_type": "execute_result"
    }
   ],
   "source": [
    "# Checking to confirm if all the null values are dropped\n",
    "GoBike_df_copy.isnull().sum()"
   ]
  },
  {
   "cell_type": "markdown",
   "id": "da3a2013",
   "metadata": {},
   "source": [
    "##### `tripdata` table: Erroneous datatype in start_time, end_time, member_gender, bake_share_for_all_trip, user_type"
   ]
  },
  {
   "cell_type": "markdown",
   "id": "d36199b4",
   "metadata": {},
   "source": [
    "#### Define"
   ]
  },
  {
   "cell_type": "markdown",
   "id": "dfea813d",
   "metadata": {},
   "source": [
    "Change the datatype of start_time, end_time to datatime while member_gender, bake_share_for_all and user_type to category"
   ]
  },
  {
   "cell_type": "markdown",
   "id": "4bf1e6dc",
   "metadata": {},
   "source": [
    "##### Code"
   ]
  },
  {
   "cell_type": "code",
   "execution_count": 19,
   "id": "170e0b5e",
   "metadata": {},
   "outputs": [],
   "source": [
    "# Change the datatypes of the columns to datetime and category\n",
    "GoBike_df_copy[\"start_time\"] = pd.to_datetime(GoBike_df_copy[\"start_time\"])\n",
    "GoBike_df_copy[\"end_time\"] = pd.to_datetime(GoBike_df_copy[\"end_time\"])\n",
    "GoBike_df_copy[\"bike_share_for_all_trip\"] = GoBike_df_copy[\"bike_share_for_all_trip\"].astype(\"category\")\n",
    "GoBike_df_copy[\"member_gender\"] = GoBike_df_copy[\"member_gender\"].astype(\"category\")\n",
    "GoBike_df_copy[\"user_type\"] = GoBike_df_copy[\"user_type\"].astype(\"category\")"
   ]
  },
  {
   "cell_type": "markdown",
   "id": "dddb4897",
   "metadata": {},
   "source": [
    "##### Test"
   ]
  },
  {
   "cell_type": "code",
   "execution_count": 20,
   "id": "1d6f8de3",
   "metadata": {},
   "outputs": [
    {
     "name": "stdout",
     "output_type": "stream",
     "text": [
      "<class 'pandas.core.frame.DataFrame'>\n",
      "Int64Index: 174952 entries, 0 to 183411\n",
      "Data columns (total 16 columns):\n",
      " #   Column                   Non-Null Count   Dtype         \n",
      "---  ------                   --------------   -----         \n",
      " 0   duration_sec             174952 non-null  int64         \n",
      " 1   start_time               174952 non-null  datetime64[ns]\n",
      " 2   end_time                 174952 non-null  datetime64[ns]\n",
      " 3   start_station_id         174952 non-null  float64       \n",
      " 4   start_station_name       174952 non-null  object        \n",
      " 5   start_station_latitude   174952 non-null  float64       \n",
      " 6   start_station_longitude  174952 non-null  float64       \n",
      " 7   end_station_id           174952 non-null  float64       \n",
      " 8   end_station_name         174952 non-null  object        \n",
      " 9   end_station_latitude     174952 non-null  float64       \n",
      " 10  end_station_longitude    174952 non-null  float64       \n",
      " 11  bike_id                  174952 non-null  int64         \n",
      " 12  user_type                174952 non-null  category      \n",
      " 13  member_birth_year        174952 non-null  float64       \n",
      " 14  member_gender            174952 non-null  category      \n",
      " 15  bike_share_for_all_trip  174952 non-null  category      \n",
      "dtypes: category(3), datetime64[ns](2), float64(7), int64(2), object(2)\n",
      "memory usage: 19.2+ MB\n"
     ]
    }
   ],
   "source": [
    "GoBike_df_copy.info()"
   ]
  },
  {
   "cell_type": "markdown",
   "id": "93ad95dc",
   "metadata": {},
   "source": [
    "#### `GoBike_df`: The week and day can be extracted from the start_time column"
   ]
  },
  {
   "cell_type": "markdown",
   "id": "6f8d8723",
   "metadata": {},
   "source": [
    "#### Define"
   ]
  },
  {
   "cell_type": "markdown",
   "id": "85347e78",
   "metadata": {},
   "source": [
    "Extract the week and day from the start_time column"
   ]
  },
  {
   "cell_type": "markdown",
   "id": "ce378ffd",
   "metadata": {},
   "source": [
    "##### Code"
   ]
  },
  {
   "cell_type": "code",
   "execution_count": 73,
   "id": "e1eeda40",
   "metadata": {},
   "outputs": [],
   "source": [
    "days_of_week = {\n",
    "    0: \"Monday\",\n",
    "    1: \"Tuesday\",\n",
    "    2: \"Wednesday\",\n",
    "    3: \"Thursday\",\n",
    "    4: \"Friday\", \n",
    "    5: \"Saturday\",\n",
    "    6: \"Sunday\"\n",
    "}\n",
    "\n",
    "GoBike_df_copy[\"weekday_name\"] = GoBike_df_copy[\"start_time\"].dt.weekday.map(days_of_week)\n",
    "\n",
    "GoBike_df_copy[\"hour\"] = GoBike_df_copy[\"start_time\"].dt.hour\n",
    "GoBike_df_copy[\"minutes\"] = GoBike_df_copy[\"start_time\"].dt.minute"
   ]
  },
  {
   "cell_type": "markdown",
   "id": "13a21d96",
   "metadata": {},
   "source": [
    "##### Test"
   ]
  },
  {
   "cell_type": "code",
   "execution_count": 74,
   "id": "680979af",
   "metadata": {},
   "outputs": [
    {
     "data": {
      "text/html": [
       "<div>\n",
       "<style scoped>\n",
       "    .dataframe tbody tr th:only-of-type {\n",
       "        vertical-align: middle;\n",
       "    }\n",
       "\n",
       "    .dataframe tbody tr th {\n",
       "        vertical-align: top;\n",
       "    }\n",
       "\n",
       "    .dataframe thead th {\n",
       "        text-align: right;\n",
       "    }\n",
       "</style>\n",
       "<table border=\"1\" class=\"dataframe\">\n",
       "  <thead>\n",
       "    <tr style=\"text-align: right;\">\n",
       "      <th></th>\n",
       "      <th>duration_sec</th>\n",
       "      <th>start_time</th>\n",
       "      <th>end_time</th>\n",
       "      <th>start_station_id</th>\n",
       "      <th>start_station_name</th>\n",
       "      <th>start_station_latitude</th>\n",
       "      <th>start_station_longitude</th>\n",
       "      <th>end_station_id</th>\n",
       "      <th>end_station_name</th>\n",
       "      <th>end_station_latitude</th>\n",
       "      <th>end_station_longitude</th>\n",
       "      <th>bike_id</th>\n",
       "      <th>user_type</th>\n",
       "      <th>member_birth_year</th>\n",
       "      <th>member_gender</th>\n",
       "      <th>bike_share_for_all_trip</th>\n",
       "      <th>weekday_name</th>\n",
       "      <th>hour</th>\n",
       "      <th>duration_min</th>\n",
       "      <th>minutes</th>\n",
       "    </tr>\n",
       "  </thead>\n",
       "  <tbody>\n",
       "    <tr>\n",
       "      <th>0</th>\n",
       "      <td>52185</td>\n",
       "      <td>2019-02-28 17:32:10.145</td>\n",
       "      <td>2019-03-01 08:01:55.975</td>\n",
       "      <td>21.0</td>\n",
       "      <td>Montgomery St BART Station (Market St at 2nd St)</td>\n",
       "      <td>37.789625</td>\n",
       "      <td>-122.400811</td>\n",
       "      <td>13.0</td>\n",
       "      <td>Commercial St at Montgomery St</td>\n",
       "      <td>37.794231</td>\n",
       "      <td>-122.402923</td>\n",
       "      <td>4902</td>\n",
       "      <td>Customer</td>\n",
       "      <td>1984.0</td>\n",
       "      <td>Male</td>\n",
       "      <td>No</td>\n",
       "      <td>Thursday</td>\n",
       "      <td>17</td>\n",
       "      <td>869.750000</td>\n",
       "      <td>32</td>\n",
       "    </tr>\n",
       "    <tr>\n",
       "      <th>2</th>\n",
       "      <td>61854</td>\n",
       "      <td>2019-02-28 12:13:13.218</td>\n",
       "      <td>2019-03-01 05:24:08.146</td>\n",
       "      <td>86.0</td>\n",
       "      <td>Market St at Dolores St</td>\n",
       "      <td>37.769305</td>\n",
       "      <td>-122.426826</td>\n",
       "      <td>3.0</td>\n",
       "      <td>Powell St BART Station (Market St at 4th St)</td>\n",
       "      <td>37.786375</td>\n",
       "      <td>-122.404904</td>\n",
       "      <td>5905</td>\n",
       "      <td>Customer</td>\n",
       "      <td>1972.0</td>\n",
       "      <td>Male</td>\n",
       "      <td>No</td>\n",
       "      <td>Thursday</td>\n",
       "      <td>12</td>\n",
       "      <td>1030.900000</td>\n",
       "      <td>13</td>\n",
       "    </tr>\n",
       "    <tr>\n",
       "      <th>3</th>\n",
       "      <td>36490</td>\n",
       "      <td>2019-02-28 17:54:26.010</td>\n",
       "      <td>2019-03-01 04:02:36.842</td>\n",
       "      <td>375.0</td>\n",
       "      <td>Grove St at Masonic Ave</td>\n",
       "      <td>37.774836</td>\n",
       "      <td>-122.446546</td>\n",
       "      <td>70.0</td>\n",
       "      <td>Central Ave at Fell St</td>\n",
       "      <td>37.773311</td>\n",
       "      <td>-122.444293</td>\n",
       "      <td>6638</td>\n",
       "      <td>Subscriber</td>\n",
       "      <td>1989.0</td>\n",
       "      <td>Other</td>\n",
       "      <td>No</td>\n",
       "      <td>Thursday</td>\n",
       "      <td>17</td>\n",
       "      <td>608.166667</td>\n",
       "      <td>54</td>\n",
       "    </tr>\n",
       "    <tr>\n",
       "      <th>4</th>\n",
       "      <td>1585</td>\n",
       "      <td>2019-02-28 23:54:18.549</td>\n",
       "      <td>2019-03-01 00:20:44.074</td>\n",
       "      <td>7.0</td>\n",
       "      <td>Frank H Ogawa Plaza</td>\n",
       "      <td>37.804562</td>\n",
       "      <td>-122.271738</td>\n",
       "      <td>222.0</td>\n",
       "      <td>10th Ave at E 15th St</td>\n",
       "      <td>37.792714</td>\n",
       "      <td>-122.248780</td>\n",
       "      <td>4898</td>\n",
       "      <td>Subscriber</td>\n",
       "      <td>1974.0</td>\n",
       "      <td>Male</td>\n",
       "      <td>Yes</td>\n",
       "      <td>Thursday</td>\n",
       "      <td>23</td>\n",
       "      <td>26.416667</td>\n",
       "      <td>54</td>\n",
       "    </tr>\n",
       "    <tr>\n",
       "      <th>5</th>\n",
       "      <td>1793</td>\n",
       "      <td>2019-02-28 23:49:58.632</td>\n",
       "      <td>2019-03-01 00:19:51.760</td>\n",
       "      <td>93.0</td>\n",
       "      <td>4th St at Mission Bay Blvd S</td>\n",
       "      <td>37.770407</td>\n",
       "      <td>-122.391198</td>\n",
       "      <td>323.0</td>\n",
       "      <td>Broadway at Kearny</td>\n",
       "      <td>37.798014</td>\n",
       "      <td>-122.405950</td>\n",
       "      <td>5200</td>\n",
       "      <td>Subscriber</td>\n",
       "      <td>1959.0</td>\n",
       "      <td>Male</td>\n",
       "      <td>No</td>\n",
       "      <td>Thursday</td>\n",
       "      <td>23</td>\n",
       "      <td>29.883333</td>\n",
       "      <td>49</td>\n",
       "    </tr>\n",
       "  </tbody>\n",
       "</table>\n",
       "</div>"
      ],
      "text/plain": [
       "   duration_sec              start_time                end_time  \\\n",
       "0         52185 2019-02-28 17:32:10.145 2019-03-01 08:01:55.975   \n",
       "2         61854 2019-02-28 12:13:13.218 2019-03-01 05:24:08.146   \n",
       "3         36490 2019-02-28 17:54:26.010 2019-03-01 04:02:36.842   \n",
       "4          1585 2019-02-28 23:54:18.549 2019-03-01 00:20:44.074   \n",
       "5          1793 2019-02-28 23:49:58.632 2019-03-01 00:19:51.760   \n",
       "\n",
       "   start_station_id                                start_station_name  \\\n",
       "0              21.0  Montgomery St BART Station (Market St at 2nd St)   \n",
       "2              86.0                           Market St at Dolores St   \n",
       "3             375.0                           Grove St at Masonic Ave   \n",
       "4               7.0                               Frank H Ogawa Plaza   \n",
       "5              93.0                      4th St at Mission Bay Blvd S   \n",
       "\n",
       "   start_station_latitude  start_station_longitude  end_station_id  \\\n",
       "0               37.789625              -122.400811            13.0   \n",
       "2               37.769305              -122.426826             3.0   \n",
       "3               37.774836              -122.446546            70.0   \n",
       "4               37.804562              -122.271738           222.0   \n",
       "5               37.770407              -122.391198           323.0   \n",
       "\n",
       "                               end_station_name  end_station_latitude  \\\n",
       "0                Commercial St at Montgomery St             37.794231   \n",
       "2  Powell St BART Station (Market St at 4th St)             37.786375   \n",
       "3                        Central Ave at Fell St             37.773311   \n",
       "4                         10th Ave at E 15th St             37.792714   \n",
       "5                            Broadway at Kearny             37.798014   \n",
       "\n",
       "   end_station_longitude  bike_id   user_type  member_birth_year  \\\n",
       "0            -122.402923     4902    Customer             1984.0   \n",
       "2            -122.404904     5905    Customer             1972.0   \n",
       "3            -122.444293     6638  Subscriber             1989.0   \n",
       "4            -122.248780     4898  Subscriber             1974.0   \n",
       "5            -122.405950     5200  Subscriber             1959.0   \n",
       "\n",
       "  member_gender bike_share_for_all_trip weekday_name  hour  duration_min  \\\n",
       "0          Male                      No     Thursday    17    869.750000   \n",
       "2          Male                      No     Thursday    12   1030.900000   \n",
       "3         Other                      No     Thursday    17    608.166667   \n",
       "4          Male                     Yes     Thursday    23     26.416667   \n",
       "5          Male                      No     Thursday    23     29.883333   \n",
       "\n",
       "   minutes  \n",
       "0       32  \n",
       "2       13  \n",
       "3       54  \n",
       "4       54  \n",
       "5       49  "
      ]
     },
     "execution_count": 74,
     "metadata": {},
     "output_type": "execute_result"
    }
   ],
   "source": [
    "GoBike_df_copy.head()"
   ]
  },
  {
   "cell_type": "code",
   "execution_count": 23,
   "id": "78f66d89",
   "metadata": {},
   "outputs": [
    {
     "name": "stdout",
     "output_type": "stream",
     "text": [
      "(174952, 18)\n"
     ]
    }
   ],
   "source": [
    "# Checking the shape of dataset after premilinary wrangling\n",
    "print(GoBike_df_copy.shape)"
   ]
  },
  {
   "cell_type": "markdown",
   "id": "ae2ed5d4",
   "metadata": {},
   "source": [
    "### What is the structure of your dataset?\n",
    "\n",
    "The dataset have 174952 rows after some wrangling and 19 columns. The columns are duration_sec and bike_id which the datatype is int64, start_time and end_time which both their datatype are in datetime, user_type, member_gender and bike_share_for_all_trips are in category while start_station_id, start_station_name, start_station_latitude,start_station_longitude, end_station_id, end_station_name, end_station_latitude, end_station_longitude are float64, the weekday_name is in object and the hour column is in int64.\n",
    "\n",
    "\n",
    "### What is/are the main feature(s) of interest in your dataset?\n",
    "\n",
    "The main features of interest in the dataset are:\n",
    "- user_type\n",
    "- member_birth_year\n",
    "- member_gender\n",
    "- bike_share_for_all_trip\n",
    "- hour\n",
    "- weekday_name\n",
    "\n",
    "### What features in the dataset do you think will help support your investigation into your feature(s) of interest?\n",
    "\n",
    "The duration_sec, start_time, end_time and bike_id should in supporting my investigation into my features of interest."
   ]
  },
  {
   "cell_type": "markdown",
   "id": "85f24dba",
   "metadata": {},
   "source": [
    "## Univariate Exploration"
   ]
  },
  {
   "cell_type": "markdown",
   "id": "6c929c81",
   "metadata": {},
   "source": [
    "### How often is sharing of bikes for trips?"
   ]
  },
  {
   "cell_type": "code",
   "execution_count": 24,
   "id": "8cc9422b",
   "metadata": {},
   "outputs": [],
   "source": [
    "# Function for a countplot\n",
    "def plot_count(x, **kwargs):\n",
    "    base_color = sns.color_palette()[0]\n",
    "    sns.countplot(x=x, color = base_color)"
   ]
  },
  {
   "cell_type": "code",
   "execution_count": 25,
   "id": "88c190b3",
   "metadata": {},
   "outputs": [
    {
     "data": {
      "image/png": "[encoded data removed]",
      "text/plain": [
       "<Figure size 432x288 with 1 Axes>"
      ]
     },
     "metadata": {
      "needs_background": "light"
     },
     "output_type": "display_data"
    }
   ],
   "source": [
    "# Plotting the countplot of bike_share_for_all_trip column\n",
    "plot_count(GoBike_df_copy[\"bike_share_for_all_trip\"]);"
   ]
  },
  {
   "cell_type": "markdown",
   "id": "63f01542",
   "metadata": {},
   "source": [
    "###### Observation\n",
    "- Sharing of bikes with other riders is not a common thing because from the visualization close to 160000 doesn't share rides."
   ]
  },
  {
   "cell_type": "markdown",
   "id": "cd7557c3",
   "metadata": {},
   "source": [
    "### What type of user are the people who took a trip?"
   ]
  },
  {
   "cell_type": "code",
   "execution_count": 26,
   "id": "f036f7ca",
   "metadata": {},
   "outputs": [
    {
     "data": {
      "image/png": "[encoded data removed]",
      "text/plain": [
       "<Figure size 432x288 with 1 Axes>"
      ]
     },
     "metadata": {
      "needs_background": "light"
     },
     "output_type": "display_data"
    }
   ],
   "source": [
    "# Plot the user_type column\n",
    "plot_count(GoBike_df_copy[\"user_type\"]);"
   ]
  },
  {
   "cell_type": "markdown",
   "id": "db9e338b",
   "metadata": {},
   "source": [
    "###### Observation\n",
    "- There are only two types of users which are the customer and subscriber and the most common user are the subscriber which are way above the customer"
   ]
  },
  {
   "cell_type": "markdown",
   "id": "b65d70cb",
   "metadata": {},
   "source": [
    "### What is the average duration for every trips?"
   ]
  },
  {
   "cell_type": "code",
   "execution_count": 27,
   "id": "6d5be527",
   "metadata": {},
   "outputs": [
    {
     "data": {
      "image/png": "[encoded data removed]",
      "text/plain": [
       "<Figure size 432x288 with 1 Axes>"
      ]
     },
     "metadata": {
      "needs_background": "light"
     },
     "output_type": "display_data"
    }
   ],
   "source": [
    "# Plot the average duration of every trips\n",
    "plt.hist(data = GoBike_df_copy, x = \"duration_sec\");"
   ]
  },
  {
   "cell_type": "code",
   "execution_count": 28,
   "id": "0d4e53d2",
   "metadata": {},
   "outputs": [
    {
     "data": {
      "text/plain": [
       "count    174952.000000\n",
       "mean        704.002744\n",
       "std        1642.204905\n",
       "min          61.000000\n",
       "25%         323.000000\n",
       "50%         510.000000\n",
       "75%         789.000000\n",
       "max       84548.000000\n",
       "Name: duration_sec, dtype: float64"
      ]
     },
     "execution_count": 28,
     "metadata": {},
     "output_type": "execute_result"
    }
   ],
   "source": [
    "# Descriptive statistics of the duration_sec column\n",
    "GoBike_df_copy[\"duration_sec\"].describe()"
   ]
  },
  {
   "cell_type": "code",
   "execution_count": 29,
   "id": "96130ff6",
   "metadata": {},
   "outputs": [
    {
     "data": {
      "image/png": "[encoded data removed]",
      "text/plain": [
       "<Figure size 432x288 with 1 Axes>"
      ]
     },
     "metadata": {
      "needs_background": "light"
     },
     "output_type": "display_data"
    }
   ],
   "source": [
    "# Plot the distribution of the duration sec\n",
    "# bins_edges are the bins created to add to the plot\n",
    "bin_edges = np.arange(0, GoBike_df_copy[\"duration_sec\"].max()+60, 60)\n",
    "plt.hist(data = GoBike_df_copy, x = \"duration_sec\", bins = bin_edges)\n",
    "plt.xlim(0, 3000)\n",
    "plt.xlabel(\"Duration Sec\")\n",
    "plt.ylabel(\"Count\");"
   ]
  },
  {
   "cell_type": "code",
   "execution_count": 30,
   "id": "4df53bf1",
   "metadata": {},
   "outputs": [
    {
     "data": {
      "text/plain": [
       "count    5.242919\n",
       "mean     2.847574\n",
       "std      3.215427\n",
       "min      1.785330\n",
       "25%      2.509203\n",
       "50%      2.707570\n",
       "75%      2.897077\n",
       "max      4.927103\n",
       "Name: duration_sec, dtype: float64"
      ]
     },
     "execution_count": 30,
     "metadata": {},
     "output_type": "execute_result"
    }
   ],
   "source": [
    "# logarithm of the descriptive statistics of the duration_sec column\n",
    "np.log10(GoBike_df_copy[\"duration_sec\"].describe())"
   ]
  },
  {
   "cell_type": "code",
   "execution_count": 31,
   "id": "505d5e59",
   "metadata": {},
   "outputs": [],
   "source": [
    "# Dividing the duration_sec by 60 and assigning it to the duration_min\n",
    "GoBike_df_copy[\"duration_min\"] = GoBike_df_copy[\"duration_sec\"]/60"
   ]
  },
  {
   "cell_type": "code",
   "execution_count": 32,
   "id": "d6491423",
   "metadata": {},
   "outputs": [
    {
     "data": {
      "image/png": "[encoded data removed]",
      "text/plain": [
       "<Figure size 432x288 with 1 Axes>"
      ]
     },
     "metadata": {
      "needs_background": "light"
     },
     "output_type": "display_data"
    }
   ],
   "source": [
    "# Plot the histogram of the duration_min which contains bins\n",
    "bin_edges = np.arange(0, GoBike_df_copy[\"duration_min\"].max(), 1)\n",
    "plt.hist(data = GoBike_df_copy, x = \"duration_min\", bins = bin_edges)\n",
    "plt.xlim(0, 90);"
   ]
  },
  {
   "cell_type": "markdown",
   "id": "f0349d7a",
   "metadata": {},
   "source": [
    "###### Observation\n",
    "- The first graph of the duration_sec column is difficult to understand. So it is plot with different bins in the second plot and the distribution of the data is left skewed, then I divide the duration_sec by 60 and assign it to the duration_min which resulted in the third plot. From the third plot the duration peak is around 10 minutes and the data is unimodal."
   ]
  },
  {
   "cell_type": "markdown",
   "id": "edf83169",
   "metadata": {},
   "source": [
    "### What Gender took the most trips throughout the year?"
   ]
  },
  {
   "cell_type": "code",
   "execution_count": 33,
   "id": "4b03a519",
   "metadata": {},
   "outputs": [
    {
     "data": {
      "image/png": "[encoded data removed]",
      "text/plain": [
       "<Figure size 576x576 with 1 Axes>"
      ]
     },
     "metadata": {},
     "output_type": "display_data"
    }
   ],
   "source": [
    "# Assign the value counts of the member_gender column to a new varibale\n",
    "# Plot the piechart of the member_gender \n",
    "sorted_columns = GoBike_df_copy[\"member_gender\"].value_counts()\n",
    "plt.figure(figsize=(8, 8))\n",
    "plt.pie(sorted_columns, labels = sorted_columns.index, explode = (0, 0.1, 0), autopct = \"%.0f%%\")\n",
    "plt.title(\"Member Gender\")\n",
    "plt.show();"
   ]
  },
  {
   "cell_type": "markdown",
   "id": "10538b84",
   "metadata": {},
   "source": [
    "###### Observation\n",
    "- The most common gender in the datasets are the male is 75%, followed by female which are 23% and other which they are 2%."
   ]
  },
  {
   "cell_type": "markdown",
   "id": "da32cff0",
   "metadata": {},
   "source": [
    "### What day of the week has the highest starting time per rides?"
   ]
  },
  {
   "cell_type": "code",
   "execution_count": 34,
   "id": "2cd1b440",
   "metadata": {},
   "outputs": [
    {
     "data": {
      "image/png": "[encoded data removed]",
      "text/plain": [
       "<Figure size 576x360 with 1 Axes>"
      ]
     },
     "metadata": {
      "needs_background": "light"
     },
     "output_type": "display_data"
    }
   ],
   "source": [
    "# Plot the countplot of the highest starting time\n",
    "plt.figure(figsize=(8, 5))\n",
    "base_color = sns.color_palette()[0]\n",
    "sns.countplot(data = GoBike_df_copy, y = \"weekday_name\", color = base_color);"
   ]
  },
  {
   "cell_type": "markdown",
   "id": "09c48784",
   "metadata": {},
   "source": [
    "###### Observation\n",
    "- Thursday is the day with highest rides followed by Tuesday and Wednesday which are all weekdays."
   ]
  },
  {
   "cell_type": "markdown",
   "id": "63a714d2",
   "metadata": {},
   "source": [
    "### What is/are the peak of the starting time for every rides?"
   ]
  },
  {
   "cell_type": "code",
   "execution_count": 35,
   "id": "c9a51e49",
   "metadata": {},
   "outputs": [
    {
     "data": {
      "image/png": "[encoded data removed]",
      "text/plain": [
       "<Figure size 576x360 with 1 Axes>"
      ]
     },
     "metadata": {
      "needs_background": "light"
     },
     "output_type": "display_data"
    }
   ],
   "source": [
    "# Plot the barchart of the hour\n",
    "plt.figure(figsize = (8, 5))\n",
    "plot_count(GoBike_df_copy[\"hour\"])"
   ]
  },
  {
   "cell_type": "markdown",
   "id": "92071518",
   "metadata": {},
   "source": [
    "###### Observation\n",
    "- The peak hours are 8 and 17 hours which means there is always a peak when people are going to work and coming back home from work."
   ]
  },
  {
   "cell_type": "markdown",
   "id": "32210954",
   "metadata": {},
   "source": [
    "### Insights Gained during Univariate Exploration\n",
    "\n",
    "- Sharing of bikes for every trips is not a common thing and there are a lot of people that doesn't share bikes with others.\n",
    "- The most common users are the subscribers which are followed by the customers.\n",
    "- The duration_sec column was plotted at first which is unable to understood and then the bins were changed to minutes which shows that the distribution of the data are left skewed.\n",
    "- The most common genders for every trips are the male, followed by the females and others which are unspecified genders.\n",
    "- Thursday is the day with the most common rides and it shows that there are a lot rides during the weekdays.\n",
    "- The peak hours for every rides are the 8 and 17 hours which are time people leave home in the morning and in the evening people get back home."
   ]
  },
  {
   "cell_type": "markdown",
   "id": "8cce005d",
   "metadata": {},
   "source": [
    "## Bivariate Exploration"
   ]
  },
  {
   "cell_type": "markdown",
   "id": "bf122561",
   "metadata": {},
   "source": [
    "### How common is sharing of trips among genders?"
   ]
  },
  {
   "cell_type": "code",
   "execution_count": 36,
   "id": "104a1733",
   "metadata": {},
   "outputs": [
    {
     "data": {
      "image/png": "[encoded data removed]",
      "text/plain": [
       "<Figure size 576x360 with 1 Axes>"
      ]
     },
     "metadata": {
      "needs_background": "light"
     },
     "output_type": "display_data"
    }
   ],
   "source": [
    "# Plot the barchart of the member gender \n",
    "plt.figure(figsize = (8, 5))\n",
    "sns.countplot(data = GoBike_df_copy, x = \"member_gender\", hue = \"bike_share_for_all_trip\");"
   ]
  },
  {
   "cell_type": "markdown",
   "id": "dc4bb842",
   "metadata": {},
   "source": [
    "###### Observation\n",
    "- All gender that are not likely share no rides are not likely to share no rides but the females are more open to sharing rides "
   ]
  },
  {
   "cell_type": "markdown",
   "id": "0830e214",
   "metadata": {},
   "source": [
    "### What are the most user type for every days of the week? "
   ]
  },
  {
   "cell_type": "code",
   "execution_count": 37,
   "id": "7199b747",
   "metadata": {},
   "outputs": [
    {
     "data": {
      "image/png": "[encoded data removed]",
      "text/plain": [
       "<Figure size 864x576 with 1 Axes>"
      ]
     },
     "metadata": {
      "needs_background": "light"
     },
     "output_type": "display_data"
    }
   ],
   "source": [
    "# Plot the clustered barchart of the user type \n",
    "plt.figure(figsize = (12, 8))\n",
    "sns.countplot(data = GoBike_df_copy, x = \"weekday_name\", hue = \"user_type\")\n",
    "plt.xticks(rotation = 15);"
   ]
  },
  {
   "cell_type": "markdown",
   "id": "d1925a58",
   "metadata": {},
   "source": [
    "###### Observation\n",
    "- The most common users are the subscribers while there are few customers for the company."
   ]
  },
  {
   "cell_type": "markdown",
   "id": "4e2d0ec7",
   "metadata": {},
   "source": [
    "### How distributed are the age of the each genders?"
   ]
  },
  {
   "cell_type": "code",
   "execution_count": 38,
   "id": "030707b1",
   "metadata": {},
   "outputs": [
    {
     "data": {
      "image/png": "[encoded data removed]",
      "text/plain": [
       "<Figure size 864x576 with 1 Axes>"
      ]
     },
     "metadata": {
      "needs_background": "light"
     },
     "output_type": "display_data"
    }
   ],
   "source": [
    "# Plot the boxplot of the age of the genders\n",
    "plt.figure(figsize = (12, 8))\n",
    "base_color = sns.color_palette()[0]\n",
    "sns.boxplot(data = GoBike_df_copy, x = \"member_gender\", y = \"member_birth_year\", color = base_color);"
   ]
  },
  {
   "cell_type": "markdown",
   "id": "7a7b417c",
   "metadata": {},
   "source": [
    "###### Observation\n",
    "- From the visualizations the mean, median are both similar across all gender and there are a lot of outliers among the female gender which show that are people in the that gender are born before the the year 1980 that took a trip same with the male gender."
   ]
  },
  {
   "cell_type": "markdown",
   "id": "c421deea",
   "metadata": {},
   "source": [
    "### What are the correlation between the variables in the dataset?"
   ]
  },
  {
   "cell_type": "code",
   "execution_count": 39,
   "id": "33927d70",
   "metadata": {},
   "outputs": [
    {
     "data": {
      "image/png": "[encoded data removed]",
      "text/plain": [
       "<Figure size 432x288 with 2 Axes>"
      ]
     },
     "metadata": {
      "needs_background": "light"
     },
     "output_type": "display_data"
    }
   ],
   "source": [
    "# Assign the numeric variables to new variable \n",
    "# plot the heatmap of the correlation\n",
    "GoBike_stats = ['duration_sec', 'start_station_id', 'start_station_latitude',\n",
    "       'start_station_longitude', 'end_station_id',\n",
    "       'end_station_latitude', 'end_station_longitude', 'bike_id']\n",
    "\n",
    "sns.heatmap(GoBike_df_copy[GoBike_stats].corr(), cmap = \"rocket_r\", annot = True, fmt = \".2f\");"
   ]
  },
  {
   "cell_type": "markdown",
   "id": "6410c437",
   "metadata": {},
   "source": [
    "###### Observation\n",
    "- There are strong correlation end_station_latitude and start_station_longitude, same with end_station_latitude and start_station_latitude which are only geographical positions so as one increase other also increase."
   ]
  },
  {
   "cell_type": "markdown",
   "id": "e63ee030",
   "metadata": {},
   "source": [
    "### How distributed are the bike id amongst genders?"
   ]
  },
  {
   "cell_type": "code",
   "execution_count": 41,
   "id": "4dc4a682",
   "metadata": {},
   "outputs": [
    {
     "data": {
      "image/png": "[encoded data removed]",
      "text/plain": [
       "<Figure size 648x216 with 3 Axes>"
      ]
     },
     "metadata": {
      "needs_background": "light"
     },
     "output_type": "display_data"
    }
   ],
   "source": [
    "# Plot the facetgrid which uses the bike id\n",
    "g = sns.FacetGrid(data = GoBike_df_copy, col = \"member_gender\", sharey = False)\n",
    "g.map(plt.hist, \"bike_id\");"
   ]
  },
  {
   "cell_type": "markdown",
   "id": "2ce9718b",
   "metadata": {},
   "source": [
    "###### Observation\n",
    "- The bike_id are unimodal across a gender though male took more trips which resulted in more bike_id."
   ]
  },
  {
   "cell_type": "markdown",
   "id": "322339f4",
   "metadata": {},
   "source": [
    "### What are the top 10 station for starting trips?"
   ]
  },
  {
   "cell_type": "code",
   "execution_count": 88,
   "id": "e252a3d5",
   "metadata": {},
   "outputs": [
    {
     "data": {
      "image/png": "[encoded data removed]",
      "text/plain": [
       "<Figure size 864x576 with 1 Axes>"
      ]
     },
     "metadata": {
      "needs_background": "light"
     },
     "output_type": "display_data"
    }
   ],
   "source": [
    "# Plot the top 10 station name for starting rides\n",
    "plt.figure(figsize = (12, 8))\n",
    "base_color = sns.color_palette()[0]\n",
    "top10_start_station = GoBike_df_copy[\"start_station_name\"].value_counts()[:10].sort_values()\n",
    "top10_start_station.plot(kind = \"barh\", color = base_color);"
   ]
  },
  {
   "cell_type": "markdown",
   "id": "15f99815",
   "metadata": {},
   "source": [
    "###### Observation\n",
    "- The start station for every ride are mostly at the market station followed by San Fransico Caltrain station 2 for most starting rides."
   ]
  },
  {
   "cell_type": "code",
   "execution_count": 89,
   "id": "8c464fb2",
   "metadata": {},
   "outputs": [
    {
     "data": {
      "image/png": "[encoded data removed]",
      "text/plain": [
       "<Figure size 864x576 with 1 Axes>"
      ]
     },
     "metadata": {
      "needs_background": "light"
     },
     "output_type": "display_data"
    }
   ],
   "source": [
    "# Plot the top 10 station name of the ending ride\n",
    "plt.figure(figsize = (12, 8))\n",
    "base_color = sns.color_palette()[0]\n",
    "top10_end_station = GoBike_df_copy[\"end_station_name\"].value_counts()[:10].sort_values()\n",
    "top10_end_station.plot(kind = \"barh\",  color = base_color);"
   ]
  },
  {
   "cell_type": "markdown",
   "id": "bb4ff2bb",
   "metadata": {},
   "source": [
    "###### Observation\n",
    "- The end station rides are mostly at the San Fransico Caltrain Station 2 and Market Station which is the same as the starting station for every rides "
   ]
  },
  {
   "cell_type": "markdown",
   "id": "e8d5e410",
   "metadata": {},
   "source": [
    "### Insights Gained From Bivariate Exploration\n",
    "- No genders are more likely to share rides with other but females are more likely to.\n",
    "- The subscribers are the most common users every day of the week while the customers represent a small part.\n",
    "- The mean and median of all the genders are a bit similar but females have a lot of riders who are born earlier than 1980 same with the male but the female contain a rider which is born around the year 1880\n",
    "- The Market station and San Fransico Caltrain 1 are the most common station where trips are started and trips are ended."
   ]
  },
  {
   "cell_type": "markdown",
   "id": "a0e85516",
   "metadata": {},
   "source": [
    "## Multivariate Exploration"
   ]
  },
  {
   "cell_type": "markdown",
   "id": "1354c49c",
   "metadata": {},
   "source": [
    "### What is the average duration per minutes for every rides by user?\n"
   ]
  },
  {
   "cell_type": "code",
   "execution_count": 77,
   "id": "7178abbe",
   "metadata": {},
   "outputs": [
    {
     "data": {
      "image/png": "[encoded data removed]",
      "text/plain": [
       "<Figure size 864x576 with 1 Axes>"
      ]
     },
     "metadata": {
      "needs_background": "light"
     },
     "output_type": "display_data"
    }
   ],
   "source": [
    "# plotting of barplot of the average duration per minutes\n",
    "plt.figure(figsize = (12, 8))\n",
    "sns.barplot(data = GoBike_df_copy, x = \"hour\", y = \"minutes\", hue = \"user_type\");"
   ]
  },
  {
   "cell_type": "markdown",
   "id": "f9275da6",
   "metadata": {},
   "source": [
    "###### Observation\n",
    "- The customer duration for every rides last longer than the subscribers almost every hour of the day."
   ]
  },
  {
   "cell_type": "markdown",
   "id": "1bb36fdf",
   "metadata": {},
   "source": [
    "### What is the average per minutes during the week?"
   ]
  },
  {
   "cell_type": "code",
   "execution_count": 99,
   "id": "c18f1008",
   "metadata": {},
   "outputs": [
    {
     "data": {
      "image/png": "[encoded data removed]",
      "text/plain": [
       "<Figure size 864x576 with 1 Axes>"
      ]
     },
     "metadata": {
      "needs_background": "light"
     },
     "output_type": "display_data"
    }
   ],
   "source": [
    "# plot the pointplot of the average per minutes\n",
    "plt.figure(figsize = (12, 8))\n",
    "days = [\"Monday\", \"Tuesday\", \"Wednesday\", \"Thursday\", \"Friday\", \"Saturday\", \"Sunday\"]\n",
    "sns.barplot(data = GoBike_df_copy, y = \"minutes\", x = \"weekday_name\", hue = \"user_type\", order = days)\n",
    "plt.xticks(rotation = 15)\n",
    "plt.legend(bbox_to_anchor=(1.0, 0.5));"
   ]
  },
  {
   "cell_type": "markdown",
   "id": "53899e10",
   "metadata": {},
   "source": [
    "###### Observation\n",
    "- There is no much difference between the customers and subscribers on the amount of rides taken on a weekly basis"
   ]
  },
  {
   "cell_type": "markdown",
   "id": "29d8ae35",
   "metadata": {},
   "source": [
    "### Insights Gained From Multivariate Exploration\n",
    "- The customer last longer on every trip than the subscribers which means these are the people that are used to the products and enjoyed using it unlike the subscribers that are just giving it a try\n",
    "- The customer also last longer on every day of the week than the subscribers;"
   ]
  },
  {
   "cell_type": "markdown",
   "id": "ceaa30df",
   "metadata": {},
   "source": [
    "## Conclusions\n",
    "- The Male genders are more likely to take a rides than any other genders\n",
    "- The Rides Peak at 8 which is in the morning and 17 hours which is in the evening which are the times people are communiting to go away from home and come back home\n",
    "- Subscriber are the most users which means there are low customer retention and a lot of effort needs to be put to turn maybe all or some subscribers to customers.\n",
    "- Market Station is the most common place for every starting rides and also the second common place to end rides which means people are mostly likely to pick a rides at the market, same as the San Fransico Caltrain 2. "
   ]
  }
 ],
 "metadata": {
  "kernelspec": {
   "display_name": "Python 3 (ipykernel)",
   "language": "python",
   "name": "python3"
  },
  "language_info": {
   "codemirror_mode": {
    "name": "ipython",
    "version": 3
   },
   "file_extension": ".py",
   "mimetype": "text/x-python",
   "name": "python",
   "nbconvert_exporter": "python",
   "pygments_lexer": "ipython3",
   "version": "3.9.7"
  }
 },
 "nbformat": 4,
 "nbformat_minor": 5
}
